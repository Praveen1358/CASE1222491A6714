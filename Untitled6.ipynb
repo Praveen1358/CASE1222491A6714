{
  "nbformat": 4,
  "nbformat_minor": 0,
  "metadata": {
    "colab": {
      "provenance": [],
      "authorship_tag": "ABX9TyOEda3riH3mp8/TkTZVKVkK",
      "include_colab_link": true
    },
    "kernelspec": {
      "name": "python3",
      "display_name": "Python 3"
    },
    "language_info": {
      "name": "python"
    }
  },
  "cells": [
    {
      "cell_type": "markdown",
      "metadata": {
        "id": "view-in-github",
        "colab_type": "text"
      },
      "source": [
        "<a href=\"https://colab.research.google.com/github/Praveen1358/CASE1222491A6714/blob/main/Untitled6.ipynb\" target=\"_parent\"><img src=\"https://colab.research.google.com/assets/colab-badge.svg\" alt=\"Open In Colab\"/></a>"
      ]
    },
    {
      "cell_type": "code",
      "execution_count": 1,
      "metadata": {
        "colab": {
          "base_uri": "https://localhost:8080/"
        },
        "id": "Sdu51heiXxQw",
        "outputId": "46dfe39c-c478-46ac-e0ca-205c99ca2875"
      },
      "outputs": [
        {
          "output_type": "stream",
          "name": "stdout",
          "text": [
            "rock,paper or scissors ?:rock\n",
            "computer: paper\n",
            "player: rock\n",
            "Won!\n",
            "play again? (yes/no):yes\n",
            "rock,paper or scissors ?:paper\n",
            "computer: rock\n",
            "player: paper\n",
            "Won!\n",
            "play again? (yes/no):no\n",
            "Bye!\n"
          ]
        }
      ],
      "source": [
        "import random\n",
        "while True:\n",
        "    choices=(\"rock\",\"paper\",\"scissors\")\n",
        "    computer=random.choice(choices)\n",
        "    player=None\n",
        "    while player not in choices:\n",
        "        player=input(\"rock,paper or scissors ?:\")\n",
        "\n",
        "    if player == computer:\n",
        "       print(\"computer:\",computer)\n",
        "       print(\"player:\",player)\n",
        "       print(\"Tie!\")\n",
        "    elif player==\"rock\":\n",
        "        if computer==\"paper\":\n",
        "           print(\"computer:\",computer)\n",
        "           print(\"player:\",player)\n",
        "           print(\"Won!\")\n",
        "    elif player==\"paper\":\n",
        "        if computer==\"scissors\":\n",
        "            print(\"computer:\",computer)\n",
        "            print(\"player:\",player)\n",
        "            print(\"Lose\")\n",
        "        if computer==\"rock\":\n",
        "            print(\"computer:\",computer)\n",
        "            print(\"player:\",player)\n",
        "            print(\"Won!\")\n",
        "\n",
        "    play_again=input(\"play again? (yes/no):\").lower()\n",
        "    if play_again!=\"yes\":\n",
        "        break\n",
        "print(\"Bye!\")\n",
        "\n",
        ""
      ]
    }
  ]
}